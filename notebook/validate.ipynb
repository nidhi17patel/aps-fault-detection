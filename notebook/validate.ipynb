{
 "cells": [
  {
   "cell_type": "code",
   "execution_count": 2,
   "metadata": {},
   "outputs": [],
   "source": [
    "import numpy as np\n",
    "from scipy import stats\n",
    "rng = np.random.default_rng()\n",
    "sample1 = stats.uniform.rvs(size=100, random_state=rng)\n",
    "sample2 = stats.norm.rvs(size=110, random_state=rng)\n",
    "response = stats.ks_2samp(sample1, sample2)"
   ]
  },
  {
   "cell_type": "code",
   "execution_count": 3,
   "metadata": {},
   "outputs": [
    {
     "data": {
      "text/plain": [
       "array([0.97247866, 0.98000243, 0.70927935, 0.67709258, 0.4241356 ,\n",
       "       0.88604875, 0.62612178, 0.15602162, 0.31581605, 0.29384001,\n",
       "       0.40995428, 0.29639905, 0.18803366, 0.45183528, 0.24757423,\n",
       "       0.11320292, 0.6104201 , 0.62922343, 0.45749291, 0.41008925,\n",
       "       0.00975841, 0.09258485, 0.09197227, 0.05820577, 0.15939199,\n",
       "       0.02312896, 0.54791534, 0.91623367, 0.65842232, 0.94647197,\n",
       "       0.44019414, 0.58701776, 0.02969718, 0.59711777, 0.75200633,\n",
       "       0.91230556, 0.7715689 , 0.35021787, 0.21421498, 0.43474148,\n",
       "       0.54634991, 0.06879214, 0.96458096, 0.66974495, 0.54730536,\n",
       "       0.24268873, 0.84182312, 0.81689535, 0.06682654, 0.92661705,\n",
       "       0.82401537, 0.19558412, 0.01355836, 0.72850174, 0.97632679,\n",
       "       0.03723839, 0.66934322, 0.42770601, 0.16909726, 0.87394197,\n",
       "       0.87076738, 0.2426893 , 0.32779717, 0.6871427 , 0.81828991,\n",
       "       0.52435717, 0.50869046, 0.44739099, 0.23178601, 0.82633493,\n",
       "       0.53762467, 0.18669825, 0.76637525, 0.01530861, 0.41696201,\n",
       "       0.64665445, 0.02668172, 0.46923138, 0.53509484, 0.81755675,\n",
       "       0.31338438, 0.72374339, 0.0479374 , 0.72661844, 0.47415769,\n",
       "       0.66150439, 0.28541383, 0.7037907 , 0.03208766, 0.27405515,\n",
       "       0.53224485, 0.98512149, 0.98114104, 0.82093856, 0.74451678,\n",
       "       0.63819132, 0.6564313 , 0.52832196, 0.23846055, 0.83471218])"
      ]
     },
     "execution_count": 3,
     "metadata": {},
     "output_type": "execute_result"
    }
   ],
   "source": [
    "sample1"
   ]
  },
  {
   "cell_type": "code",
   "execution_count": 5,
   "metadata": {},
   "outputs": [
    {
     "data": {
      "text/plain": [
       "array([-0.59426913,  1.24586972, -0.89377051, -0.16040504, -0.47522194,\n",
       "       -0.32447498,  0.73822052,  0.31351645,  0.19049335, -0.48988464,\n",
       "        0.03547384, -0.77278288,  0.97076896, -0.66118151, -1.42176439,\n",
       "        0.70210204, -0.10240318,  0.87989692,  0.22044294, -0.08487762,\n",
       "        1.02754584,  1.03080301, -1.07685918,  0.90130678,  1.24789473,\n",
       "       -1.66404049,  0.34354699,  0.12381024,  1.2612053 , -1.19133731,\n",
       "        0.10035744,  0.79881334,  0.35860373, -1.47899674,  0.6531586 ,\n",
       "        0.98012096, -2.5209289 , -2.30777328,  0.72349891, -0.8424239 ,\n",
       "       -1.3630471 , -0.51974972, -0.29705087,  0.68539278, -1.00688629,\n",
       "        0.25427217,  0.82851861,  0.55001861,  0.26503123,  0.55763137,\n",
       "       -1.29815803,  1.61278164, -0.43488736, -2.19445023, -0.91732923,\n",
       "        0.58118727,  1.39079191,  0.15254297,  0.60938912, -0.35140551,\n",
       "       -2.4521814 , -1.20394389, -1.03649922,  0.8837489 ,  0.750309  ,\n",
       "        0.80511792, -0.99179067,  0.74309299,  0.25659217, -0.30890935,\n",
       "        0.13842702,  0.42177556,  0.90433597,  1.70235033,  2.02074458,\n",
       "       -0.72656234,  0.06170085, -0.55767559,  0.91260558, -0.3007232 ,\n",
       "       -0.08736774, -0.10025381, -1.64893591,  0.81547144,  2.4584816 ,\n",
       "       -0.96645251, -0.55371336,  1.14436352,  0.61647839,  0.07364058,\n",
       "       -0.57886905, -0.06366643, -0.34724182, -0.66454272,  0.13958429,\n",
       "       -1.47650078, -0.30395922, -0.29963366,  0.58659021, -0.58540941,\n",
       "        0.05505851, -0.25501529, -0.08829138, -1.40265945, -1.76050986,\n",
       "        1.67259719,  0.16295553, -0.87878015,  0.65089645,  0.00730756])"
      ]
     },
     "execution_count": 5,
     "metadata": {},
     "output_type": "execute_result"
    }
   ],
   "source": [
    "sample2"
   ]
  },
  {
   "cell_type": "code",
   "execution_count": 4,
   "metadata": {},
   "outputs": [
    {
     "data": {
      "text/plain": [
       "7e-16"
      ]
     },
     "execution_count": 4,
     "metadata": {},
     "output_type": "execute_result"
    }
   ],
   "source": [
    "round(response.pvalue,16)"
   ]
  },
  {
   "cell_type": "markdown",
   "metadata": {},
   "source": [
    "#Anomly in my dataset\n",
    "# \n",
    "1.High Null Value\n",
    "2. Missing COlumns\n",
    "3. Outlier\n",
    "4. Categorical: \n",
    "Gender--> MALE, FEMALE,OTHER\n"
   ]
  },
  {
   "cell_type": "markdown",
   "metadata": {},
   "source": []
  },
  {
   "cell_type": "code",
   "execution_count": 7,
   "metadata": {},
   "outputs": [],
   "source": [
    "import pandas as pd"
   ]
  },
  {
   "cell_type": "code",
   "execution_count": 8,
   "metadata": {},
   "outputs": [
    {
     "name": "stdout",
     "output_type": "stream",
     "text": [
      "1 4\n",
      "2 5\n",
      "3 6\n",
      "4 7\n"
     ]
    }
   ],
   "source": [
    "l1=[1,2,3,4]\n",
    "l2=[4,5,6,7]\n",
    "\n",
    "for l1_val,l2_val in zip(l1,l2):\n",
    "    print(l1_val,l2_val)"
   ]
  },
  {
   "cell_type": "code",
   "execution_count": 30,
   "metadata": {},
   "outputs": [],
   "source": [
    "df = pd.read_csv(\"/config/workspace/artifact/11272022__185759/data_ingestion/dataset/train.csv\")"
   ]
  },
  {
   "cell_type": "code",
   "execution_count": 38,
   "metadata": {},
   "outputs": [
    {
     "data": {
      "text/plain": [
       "0"
      ]
     },
     "execution_count": 38,
     "metadata": {},
     "output_type": "execute_result"
    }
   ],
   "source": [
    "len(df.iloc[:,[0]].drop(\"class\",axis=1).columns)"
   ]
  },
  {
   "cell_type": "code",
   "execution_count": 28,
   "metadata": {},
   "outputs": [
    {
     "data": {
      "text/plain": [
       "Index(['ab_000', 'bk_000', 'bl_000', 'bm_000', 'bn_000', 'bo_000', 'bp_000',\n",
       "       'bq_000', 'br_000', 'cr_000'],\n",
       "      dtype='object')"
      ]
     },
     "execution_count": 28,
     "metadata": {},
     "output_type": "execute_result"
    }
   ],
   "source": []
  },
  {
   "cell_type": "code",
   "execution_count": 1,
   "metadata": {},
   "outputs": [],
   "source": [
    "from glob import glob"
   ]
  },
  {
   "cell_type": "code",
   "execution_count": 5,
   "metadata": {},
   "outputs": [
    {
     "data": {
      "text/plain": [
       "['/config/workspace/saved_models/1/model/model.pkl']"
      ]
     },
     "execution_count": 5,
     "metadata": {},
     "output_type": "execute_result"
    }
   ],
   "source": [
    "glob(\"/config/workspace/saved_models/1/**/*.pkl\")"
   ]
  },
  {
   "cell_type": "code",
   "execution_count": 7,
   "metadata": {},
   "outputs": [
    {
     "data": {
      "text/plain": [
       "'1'"
      ]
     },
     "execution_count": 7,
     "metadata": {},
     "output_type": "execute_result"
    }
   ],
   "source": [
    "import os\n",
    "\n",
    "os.path.basename(\"saved_mode/1\")"
   ]
  },
  {
   "cell_type": "code",
   "execution_count": null,
   "metadata": {},
   "outputs": [],
   "source": []
  }
 ],
 "metadata": {
  "kernelspec": {
   "display_name": "Python 3.8.10 64-bit",
   "language": "python",
   "name": "python3"
  },
  "language_info": {
   "codemirror_mode": {
    "name": "ipython",
    "version": 3
   },
   "file_extension": ".py",
   "mimetype": "text/x-python",
   "name": "python",
   "nbconvert_exporter": "python",
   "pygments_lexer": "ipython3",
   "version": "3.8.10"
  },
  "orig_nbformat": 4,
  "vscode": {
   "interpreter": {
    "hash": "e7370f93d1d0cde622a1f8e1c04877d8463912d04d973331ad4851f04de6915a"
   }
  }
 },
 "nbformat": 4,
 "nbformat_minor": 2
}
